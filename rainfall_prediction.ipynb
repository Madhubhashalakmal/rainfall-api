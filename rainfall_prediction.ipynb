{
 "cells": [
  {
   "cell_type": "code",
   "execution_count": 2,
   "id": "7040d044-38e6-4b32-95f8-a095af30f118",
   "metadata": {},
   "outputs": [
    {
     "name": "stdout",
     "output_type": "stream",
     "text": [
      "  Station id             Station Name  Longitude (degrees)  \\\n",
      "0   01AM001F  AKKARAIPATTU IRRIGATION                81.82   \n",
      "1   01AM001F  AKKARAIPATTU IRRIGATION                81.82   \n",
      "2   01AM001F  AKKARAIPATTU IRRIGATION                81.82   \n",
      "3   01AM001F  AKKARAIPATTU IRRIGATION                81.82   \n",
      "4   01AM001F  AKKARAIPATTU IRRIGATION                81.82   \n",
      "\n",
      "   Latitude (degrees)  Elevation (m)  Code Abbreviation  Year          Jan  \\\n",
      "0                7.22              4     5       PRECIP  2019  136.3999996   \n",
      "1                7.22              4     5       PRECIP  2020  160.0000033   \n",
      "2                7.22              4     5       PRECIP  2021  416.2999992   \n",
      "3                7.22              4     5       PRECIP  2022   238.799999   \n",
      "4                7.22              4     5       PRECIP  2023  184.4999995   \n",
      "\n",
      "           Feb          Mar        April          May         June  \\\n",
      "0  199.6999979          DNA  21.39999962            0  7.900000095   \n",
      "1  20.70000005            0         27.5  45.69999933  113.1000004   \n",
      "2  237.7999995  103.5000005  32.30000019   34.9000001  23.59999943   \n",
      "3  196.5999998  31.20000076         12.5          6.5  22.80000067   \n",
      "4  348.5999975        115.8  46.39999962  7.300000072  45.29999971   \n",
      "\n",
      "          July          Aug          Sep          Oct          Nov  \\\n",
      "0         53.5   72.5999999   91.0999999  251.9000007  234.8000002   \n",
      "1  32.00000024  37.80000067   47.9000001  56.40000033  181.3000019   \n",
      "2  77.39999914  11.10000038  33.29999924  121.0000005  491.3999944   \n",
      "3  30.69999933  52.29999948  18.39999986  112.7000006   320.400002   \n",
      "4  5.700000197         15.5  76.09999824  58.89999986  289.8000014   \n",
      "\n",
      "           Dec  \n",
      "0  547.8999925  \n",
      "1        422.5  \n",
      "2  185.5999961  \n",
      "3  264.4000006  \n",
      "4  427.2000028  \n",
      "<class 'pandas.core.frame.DataFrame'>\n",
      "RangeIndex: 1059 entries, 0 to 1058\n",
      "Data columns (total 20 columns):\n",
      " #   Column               Non-Null Count  Dtype  \n",
      "---  ------               --------------  -----  \n",
      " 0   Station id           1059 non-null   object \n",
      " 1   Station Name         1059 non-null   object \n",
      " 2   Longitude (degrees)  1059 non-null   float64\n",
      " 3   Latitude (degrees)   1059 non-null   float64\n",
      " 4   Elevation (m)        1059 non-null   int64  \n",
      " 5   Code                 1059 non-null   int64  \n",
      " 6   Abbreviation         1059 non-null   object \n",
      " 7   Year                 1059 non-null   int64  \n",
      " 8   Jan                  1059 non-null   object \n",
      " 9   Feb                  1059 non-null   object \n",
      " 10  Mar                  1059 non-null   object \n",
      " 11  April                1059 non-null   object \n",
      " 12  May                  1059 non-null   object \n",
      " 13  June                 1059 non-null   object \n",
      " 14  July                 1059 non-null   object \n",
      " 15  Aug                  1059 non-null   object \n",
      " 16  Sep                  1059 non-null   object \n",
      " 17  Oct                  1059 non-null   object \n",
      " 18  Nov                  1059 non-null   object \n",
      " 19  Dec                  1059 non-null   object \n",
      "dtypes: float64(2), int64(3), object(15)\n",
      "memory usage: 165.6+ KB\n",
      "None\n"
     ]
    }
   ],
   "source": [
    "import pandas as pd\n",
    "\n",
    "# Load the dataset\n",
    "df = pd.read_csv('E:\\Pramuditha\\Lectures\\Year 4 Semester 01\\Research\\Project\\Data Sheet Rain forecast.csv')\n",
    "\n",
    "# Display first few rows\n",
    "print(df.head())\n",
    "\n",
    "# Check data structure\n",
    "print(df.info())\n"
   ]
  },
  {
   "cell_type": "code",
   "execution_count": null,
   "id": "0fdf85d2-0f33-4fc1-b9a1-df439a2bd102",
   "metadata": {},
   "outputs": [],
   "source": []
  }
 ],
 "metadata": {
  "kernelspec": {
   "display_name": "Python 3 (ipykernel)",
   "language": "python",
   "name": "python3"
  },
  "language_info": {
   "codemirror_mode": {
    "name": "ipython",
    "version": 3
   },
   "file_extension": ".py",
   "mimetype": "text/x-python",
   "name": "python",
   "nbconvert_exporter": "python",
   "pygments_lexer": "ipython3",
   "version": "3.11.0rc2"
  }
 },
 "nbformat": 4,
 "nbformat_minor": 5
}
